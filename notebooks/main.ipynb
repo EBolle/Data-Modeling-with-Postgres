{
 "cells": [
  {
   "cell_type": "markdown",
   "metadata": {},
   "source": [
    "### Welcome to the main notebook of this project\n",
    "\n",
    "In this notebook I go through each step of the project, and briefly explain my thought process when deemed necessary, the steps to be taken:\n",
    "- Connect to the database & create the tables\n",
    "- Create the data to insert in the tables\n",
    "- Insert the data\n",
    "- Example queries\n",
    "- Close the cursor and connection\n",
    "\n",
    "Please note that this notebook replaces the original etl.ipynb and test.ipynb. "
   ]
  },
  {
   "cell_type": "code",
   "execution_count": 1,
   "metadata": {},
   "outputs": [],
   "source": [
    "from pathlib import Path\n",
    "import psycopg2\n",
    "from src.data_utils import create_database\n",
    "from src.preprocessing import LogPreProcess, SongPreProcess, SongPlaysPreProcess\n",
    "from src.sql_queries import create_table_queries, drop_table_queries, insert_table_queries"
   ]
  },
  {
   "cell_type": "markdown",
   "metadata": {},
   "source": [
    "#### Connect to the database and create the tables"
   ]
  },
  {
   "cell_type": "code",
   "execution_count": 26,
   "metadata": {},
   "outputs": [],
   "source": [
    "cur, conn = create_database()"
   ]
  },
  {
   "cell_type": "code",
   "execution_count": 27,
   "metadata": {},
   "outputs": [],
   "source": [
    "for query in drop_table_queries:\n",
    "    cur.execute(query)"
   ]
  },
  {
   "cell_type": "code",
   "execution_count": 28,
   "metadata": {},
   "outputs": [],
   "source": [
    "for query in create_table_queries:\n",
    "    cur.execute(query)"
   ]
  },
  {
   "cell_type": "markdown",
   "metadata": {},
   "source": [
    "#### Create the data to insert in the tables\n",
    "\n",
    "To make the project more realistic, I decided to treat the files as if I had not seen them before, and as if there were a lot more files. This approach resulted in the DataValidation class and accompanying assertions. \n",
    "\n",
    "As you might notice, the songplays table did surprise me at the end, forcing me to create a few workarounds."
   ]
  },
  {
   "cell_type": "code",
   "execution_count": 29,
   "metadata": {},
   "outputs": [
    {
     "name": "stdout",
     "output_type": "stream",
     "text": [
      "../data/song_data contains 71 .json files.\n"
     ]
    }
   ],
   "source": [
    "song_path_list = Path('..') / 'data' / 'song_data'\n",
    "songpp_instance = SongPreProcess(file_path=song_path_list)\n",
    "\n",
    "artists_data, songs_data = songpp_instance.data_pipeline()"
   ]
  },
  {
   "cell_type": "code",
   "execution_count": 30,
   "metadata": {},
   "outputs": [
    {
     "name": "stdout",
     "output_type": "stream",
     "text": [
      "../data/log_data contains 30 .json files.\n"
     ]
    }
   ],
   "source": [
    "log_path_list = Path('..') / 'data' / 'log_data'\n",
    "logpp_instance = LogPreProcess(file_path=log_path_list)\n",
    "\n",
    "songsplays_help_df, time_data, users_data = logpp_instance.data_pipeline()"
   ]
  },
  {
   "cell_type": "code",
   "execution_count": 31,
   "metadata": {},
   "outputs": [],
   "source": [
    "songplays_instance = SongPlaysPreProcess(artists_data, songs_data, songsplays_help_df)\n",
    "songplays_data = songplays_instance.data_pipeline()"
   ]
  },
  {
   "cell_type": "markdown",
   "metadata": {},
   "source": [
    "#### Insert the data into Postgres"
   ]
  },
  {
   "cell_type": "code",
   "execution_count": 32,
   "metadata": {},
   "outputs": [],
   "source": [
    "data_list = [songplays_data, users_data, songs_data, artists_data, time_data]"
   ]
  },
  {
   "cell_type": "code",
   "execution_count": 33,
   "metadata": {},
   "outputs": [],
   "source": [
    "for idx, (data, query) in enumerate(zip(data_list, insert_table_queries)):\n",
    "    for row in data:\n",
    "        try:\n",
    "            cur.execute(query, row) \n",
    "        except psycopg2.Error as error:\n",
    "            print(f\"Psychog2 error @ file {idx} row {row}: {error} NOTE: this file will not be inserted.\")"
   ]
  },
  {
   "cell_type": "markdown",
   "metadata": {},
   "source": [
    "####  Example queries"
   ]
  },
  {
   "cell_type": "code",
   "execution_count": 34,
   "metadata": {},
   "outputs": [],
   "source": [
    "activity_per_weekday = \"\"\"\n",
    "SELECT time.weekday\n",
    ",    count(*) as n_songs_played\n",
    ",    count(distinct sp.user_id) as n_unique_users\n",
    ",    count(*) / count(distinct sp.user_id) as songs_per_user\n",
    ",    count(*) / sum(count(*)) over () as perc_total_songs_played\n",
    "\n",
    "FROM\n",
    "    songplays as sp\n",
    "    inner join time on time.start_time = sp.start_time\n",
    "    \n",
    "GROUP BY\n",
    "    time.weekday\n",
    "\"\"\""
   ]
  },
  {
   "cell_type": "code",
   "execution_count": 35,
   "metadata": {},
   "outputs": [
    {
     "name": "stdout",
     "output_type": "stream",
     "text": [
      "(0, 1014, 59, 17, Decimal('0.14868035190615835777'))\n",
      "(1, 1071, 57, 18, Decimal('0.15703812316715542522'))\n",
      "(2, 1364, 60, 22, Decimal('0.20000000000000000000'))\n",
      "(3, 1052, 56, 18, Decimal('0.15425219941348973607'))\n",
      "(4, 1295, 63, 20, Decimal('0.18988269794721407625'))\n",
      "(5, 628, 45, 13, Decimal('0.09208211143695014663'))\n",
      "(6, 396, 39, 10, Decimal('0.05806451612903225806'))\n"
     ]
    }
   ],
   "source": [
    "try: \n",
    "    cur.execute(activity_per_weekday)    \n",
    "except psycopg2.Error as e: \n",
    "    print(f\"Error while executing the query: {e}\")\n",
    "else:\n",
    "    row = cur.fetchone()\n",
    "    while row:\n",
    "        print(row)\n",
    "        row = cur.fetchone()"
   ]
  },
  {
   "cell_type": "code",
   "execution_count": 36,
   "metadata": {},
   "outputs": [],
   "source": [
    "activity_per_level = \"\"\"\n",
    "SELECT level\n",
    ",    count(*) as n_songs_played\n",
    ",    count(distinct user_id) as n_unique_users\n",
    ",    count(*) / count(distinct user_id) as songs_per_user\n",
    ",    count(*) / sum(count(*)) over () as perc_level\n",
    "\n",
    "FROM\n",
    "    songplays as sp\n",
    "    \n",
    "GROUP BY\n",
    "    level\n",
    "\"\"\""
   ]
  },
  {
   "cell_type": "code",
   "execution_count": 37,
   "metadata": {},
   "outputs": [
    {
     "name": "stdout",
     "output_type": "stream",
     "text": [
      "('free', 1229, 82, 14, Decimal('0.18020527859237536657'))\n",
      "('paid', 5591, 22, 254, Decimal('0.81979472140762463343'))\n"
     ]
    }
   ],
   "source": [
    "try: \n",
    "    cur.execute(activity_per_level)    \n",
    "except psycopg2.Error as e: \n",
    "    print(f\"Error while executing the query: {e}\")\n",
    "else:\n",
    "    row = cur.fetchone()\n",
    "    while row:\n",
    "        print(row)\n",
    "        row = cur.fetchone()"
   ]
  },
  {
   "cell_type": "code",
   "execution_count": 38,
   "metadata": {},
   "outputs": [],
   "source": [
    "activity_per_gender = \"\"\"\n",
    "SELECT users.gender\n",
    ",    count(*) as n_songs_played\n",
    ",    count(distinct sp.user_id) as n_unique_users\n",
    ",    count(*) / sum(count(*)) over () as perc_songs_played\n",
    "\n",
    "FROM\n",
    "    songplays as sp\n",
    "    inner join users on users.user_id = sp.user_id\n",
    "    \n",
    "GROUP BY\n",
    "    users.gender\n",
    "\"\"\""
   ]
  },
  {
   "cell_type": "code",
   "execution_count": 39,
   "metadata": {},
   "outputs": [
    {
     "name": "stdout",
     "output_type": "stream",
     "text": [
      "('F', 4887, 55, Decimal('0.71656891495601173021'))\n",
      "('M', 1933, 41, Decimal('0.28343108504398826979'))\n"
     ]
    }
   ],
   "source": [
    "try: \n",
    "    cur.execute(activity_per_gender)    \n",
    "except psycopg2.Error as e: \n",
    "    print(f\"Error while executing the query: {e}\")\n",
    "else:\n",
    "    row = cur.fetchone()\n",
    "    while row:\n",
    "        print(row)\n",
    "        row = cur.fetchone()"
   ]
  },
  {
   "cell_type": "markdown",
   "metadata": {},
   "source": [
    "#### Close the cursor and connection"
   ]
  },
  {
   "cell_type": "code",
   "execution_count": 25,
   "metadata": {},
   "outputs": [],
   "source": [
    "cur.close()\n",
    "conn.close()"
   ]
  },
  {
   "cell_type": "markdown",
   "metadata": {},
   "source": [
    "#### Next Steps\n",
    "Next you may run the two scripts in /scripts."
   ]
  }
 ],
 "metadata": {
  "kernelspec": {
   "display_name": "Python 3",
   "language": "python",
   "name": "python3"
  },
  "language_info": {
   "codemirror_mode": {
    "name": "ipython",
    "version": 3
   },
   "file_extension": ".py",
   "mimetype": "text/x-python",
   "name": "python",
   "nbconvert_exporter": "python",
   "pygments_lexer": "ipython3",
   "version": "3.8.5"
  }
 },
 "nbformat": 4,
 "nbformat_minor": 4
}
