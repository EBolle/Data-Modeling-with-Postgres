{
 "cells": [
  {
   "cell_type": "markdown",
   "metadata": {
    "editable": true
   },
   "source": [
    "### Test and explore\n",
    "\n",
    "In this notebook I test locally developed code on the actual server. There is a recurring pattern to create all tables and insert the data, which can be taken advantage of by using more generic functions. In general the process flow is as follows:\n",
    "- Create a table\n",
    "- Import the raw data\n",
    "- Validate and prepare the data for insertion\n",
    "- Insert the data\n",
    "\n",
    "**2020-12-09**\n",
    "- Next steps: create the artists table from the song_path_list -> should not take long\n",
    "- Thereafter: explore the logging data, try to leverage the already existing functions -> perhaps one will be songs_func and other log_func\n",
    "- Add a try statement around reading the json file, that is a typical pitfall\n",
    "- ..\n",
    "\n",
    "**2020-12-10**\n",
    "- Song data fixed\n",
    "- Move on to the log file -> start with users and time before you move on to songplays since that table will need other tables..\n",
    "- Start logging, really important skill to have plus you are going to use it in SAMR, ADD, Aanbodsmodel, etc. especially for these types of tasks you cannot only be looking at the the command line print statement, TO LOG OR NOT TO LOG -> LOG :) \n",
    "- First: fix all tables, then https://calmcode.io/logging/introduction.html\n",
    "\n",
    "**2020-12-12**\n",
    "- Your insert statements should include checks: what if we want to insert a row which of which the primary key is taken? Currently we check all the data at once, and validate in Pandas, but in real life we would continuously update these tables, hence, we need robust SQL insert statements"
   ]
  },
  {
   "cell_type": "code",
   "execution_count": 2,
   "metadata": {
    "editable": true
   },
   "outputs": [],
   "source": [
    "%load_ext autoreload\n",
    "%autoreload 2"
   ]
  },
  {
   "cell_type": "code",
   "execution_count": 1,
   "metadata": {
    "editable": true
   },
   "outputs": [],
   "source": [
    "from create_tables import create_database\n",
    "from data_checks import artist_dtype_dict, songs_dtype_dict, users_dtype_dict\n",
    "from data_utils import create_log_insert_list, create_song_insert_list, create_path_list\n",
    "from pathlib import Path\n",
    "import psycopg2\n",
    "from psycopg2 import extras\n",
    "from sql_queries import drop_all_tables, artist_table_create, song_table_create, artist_table_insert, song_table_insert,\\\n",
    "user_table_create"
   ]
  },
  {
   "cell_type": "markdown",
   "metadata": {
    "editable": true
   },
   "source": [
    "### Create the sparkify database"
   ]
  },
  {
   "cell_type": "code",
   "execution_count": 3,
   "metadata": {
    "editable": true
   },
   "outputs": [],
   "source": [
    "cur, conn = create_database()"
   ]
  },
  {
   "cell_type": "code",
   "execution_count": 4,
   "metadata": {
    "editable": true
   },
   "outputs": [],
   "source": [
    "cur.execute(drop_all_tables)"
   ]
  },
  {
   "cell_type": "markdown",
   "metadata": {
    "editable": true
   },
   "source": [
    "## Song data"
   ]
  },
  {
   "cell_type": "markdown",
   "metadata": {
    "editable": true
   },
   "source": [
    "#### Create the tables"
   ]
  },
  {
   "cell_type": "code",
   "execution_count": 5,
   "metadata": {
    "editable": true
   },
   "outputs": [],
   "source": [
    "cur.execute(artist_table_create)\n",
    "cur.execute(song_table_create)"
   ]
  },
  {
   "cell_type": "markdown",
   "metadata": {
    "editable": true
   },
   "source": [
    "#### Import the data"
   ]
  },
  {
   "cell_type": "code",
   "execution_count": 6,
   "metadata": {
    "editable": true
   },
   "outputs": [],
   "source": [
    "data_path = Path('.') / 'data'"
   ]
  },
  {
   "cell_type": "code",
   "execution_count": null,
   "metadata": {
    "editable": true
   },
   "outputs": [],
   "source": [
    "song_path_list = create_path_list(data_path / 'song_data')"
   ]
  },
  {
   "cell_type": "markdown",
   "metadata": {
    "editable": true
   },
   "source": [
    "### Validate and prepare the data for insertion\n",
    "- use the unduplicated artist table to check your SQL insert statements"
   ]
  },
  {
   "cell_type": "code",
   "execution_count": null,
   "metadata": {
    "editable": true
   },
   "outputs": [],
   "source": [
    "artist_columns = ['artist_id', 'artist_name', 'artist_location', 'artist_latitude', 'artist_longitude']\n",
    "song_columns = ['song_id', 'title', 'artist_id', 'year', 'duration']"
   ]
  },
  {
   "cell_type": "code",
   "execution_count": null,
   "metadata": {
    "editable": true
   },
   "outputs": [],
   "source": [
    "artist_table_data = create_song_insert_list(file_path_list=song_path_list,\n",
    "                                            insert_columns=artist_columns,\n",
    "                                            primary_key='artist_id',\n",
    "                                            dtype_dict=artist_dtype_dict,\n",
    "                                            not_nullable_columns=['artist_id', 'artist_name'])"
   ]
  },
  {
   "cell_type": "code",
   "execution_count": null,
   "metadata": {
    "editable": true
   },
   "outputs": [],
   "source": [
    "song_table_data = create_song_insert_list(file_path_list=song_path_list,\n",
    "                                          insert_columns=song_columns,\n",
    "                                          primary_key='song_id',\n",
    "                                          dtype_dict=songs_dtype_dict)"
   ]
  },
  {
   "cell_type": "markdown",
   "metadata": {
    "editable": true
   },
   "source": [
    "#### Insert the data"
   ]
  },
  {
   "cell_type": "code",
   "execution_count": null,
   "metadata": {
    "editable": true
   },
   "outputs": [],
   "source": [
    "try: \n",
    "    extras.execute_values(cur, artist_table_insert.as_string(cur), artist_table_data)\n",
    "except psycopg2.Error as e: \n",
    "    print(\"Error: Inserting Rows\")\n",
    "    print (e)"
   ]
  },
  {
   "cell_type": "code",
   "execution_count": null,
   "metadata": {
    "editable": true
   },
   "outputs": [],
   "source": [
    "try: \n",
    "    extras.execute_values(cur, song_table_insert.as_string(cur), song_table_data)\n",
    "except psycopg2.Error as e: \n",
    "    print(\"Error: Inserting Rows\")\n",
    "    print (e)"
   ]
  },
  {
   "cell_type": "markdown",
   "metadata": {
    "editable": true
   },
   "source": [
    "#### Explore the data"
   ]
  },
  {
   "cell_type": "code",
   "execution_count": null,
   "metadata": {
    "editable": true
   },
   "outputs": [],
   "source": [
    "try: \n",
    "    cur.execute(\"SELECT * FROM artists WHERE latitude is NULL\")    \n",
    "except psycopg2.Error as e: \n",
    "    print(\"Error: select *\")\n",
    "    print (e)\n",
    "\n",
    "row = cur.fetchone()\n",
    "while row:\n",
    "   print(row)\n",
    "   row = cur.fetchone()"
   ]
  },
  {
   "cell_type": "code",
   "execution_count": null,
   "metadata": {
    "editable": true
   },
   "outputs": [],
   "source": [
    "try: \n",
    "    cur.execute(\"SELECT * FROM songs\")    \n",
    "except psycopg2.Error as e: \n",
    "    print(\"Error: select *\")\n",
    "    print (e)\n",
    "\n",
    "row = cur.fetchone()\n",
    "while row:\n",
    "   print(row)\n",
    "   row = cur.fetchone()"
   ]
  },
  {
   "cell_type": "markdown",
   "metadata": {
    "editable": true
   },
   "source": [
    "## Log data\n",
    "- Check alle code stap voor stap, het gaat mis met bepaalde keys.. dit heeft alles te maken met lower/upper column names\n",
    "- If non nullable:\n",
    "      non_nullable.lower() "
   ]
  },
  {
   "cell_type": "code",
   "execution_count": 7,
   "metadata": {
    "editable": true
   },
   "outputs": [
    {
     "name": "stdout",
     "output_type": "stream",
     "text": [
      "data/log_data contains 30 .json files.\n"
     ]
    }
   ],
   "source": [
    "log_path_list = create_path_list(data_path / 'log_data')"
   ]
  },
  {
   "cell_type": "code",
   "execution_count": 8,
   "metadata": {
    "editable": true
   },
   "outputs": [],
   "source": [
    "users_columns = ['userId', 'firstName', 'lastName', 'gender', 'level']"
   ]
  },
  {
   "cell_type": "code",
   "execution_count": 9,
   "metadata": {
    "editable": true
   },
   "outputs": [
    {
     "name": "stdout",
     "output_type": "stream",
     "text": [
      "There were 7665 duplicate primary keys removed from the insert dataframe\n"
     ]
    }
   ],
   "source": [
    "users_table_data = create_log_insert_list(file_path_list=log_path_list,\n",
    "                                         insert_columns=users_columns,\n",
    "                                         primary_keys=['userId', 'gender', 'level'],\n",
    "                                         dtype_dict=users_dtype_dict,\n",
    "                                         not_nullable_columns=['userId', 'level'])"
   ]
  },
  {
   "cell_type": "markdown",
   "metadata": {
    "editable": true
   },
   "source": [
    "##### Insert the data into Postgres, row by row, in the correct chronological order so you can update the table accordingly, apply the same insert method for the songs tables."
   ]
  },
  {
   "cell_type": "markdown",
   "metadata": {
    "editable": true
   },
   "source": [
    "### Time table"
   ]
  },
  {
   "cell_type": "code",
   "execution_count": null,
   "metadata": {
    "editable": true
   },
   "outputs": [],
   "source": []
  },
  {
   "cell_type": "markdown",
   "metadata": {
    "editable": true
   },
   "source": [
    "#### Close the cursor and connection"
   ]
  },
  {
   "cell_type": "code",
   "execution_count": 11,
   "metadata": {
    "editable": true
   },
   "outputs": [],
   "source": [
    "cur.close()\n",
    "conn.close()"
   ]
  },
  {
   "cell_type": "code",
   "execution_count": null,
   "metadata": {
    "editable": true
   },
   "outputs": [],
   "source": []
  }
 ],
 "metadata": {
  "kernelspec": {
   "display_name": "Python 3",
   "language": "python",
   "name": "python3"
  },
  "language_info": {
   "codemirror_mode": {
    "name": "ipython",
    "version": 3
   },
   "file_extension": ".py",
   "mimetype": "text/x-python",
   "name": "python",
   "nbconvert_exporter": "python",
   "pygments_lexer": "ipython3",
   "version": "3.6.3"
  }
 },
 "nbformat": 4,
 "nbformat_minor": 4
}
